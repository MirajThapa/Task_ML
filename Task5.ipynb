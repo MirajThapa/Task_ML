{
  "cells": [
    {
      "cell_type": "code",
      "execution_count": 1,
      "metadata": {
        "colab": {
          "base_uri": "https://localhost:8080/"
        },
        "id": "yHQr0Kw-klzq",
        "outputId": "9407d82c-3ea4-49cc-ece5-b2f8f04acbcc"
      },
      "outputs": [
        {
          "name": "stdout",
          "output_type": "stream",
          "text": [
            "Downloading http://yann.lecun.com/exdb/mnist/train-images-idx3-ubyte.gz\n",
            "Downloading http://yann.lecun.com/exdb/mnist/train-images-idx3-ubyte.gz to ./data/MNIST/raw/train-images-idx3-ubyte.gz\n"
          ]
        },
        {
          "name": "stderr",
          "output_type": "stream",
          "text": [
            "100%|██████████| 9912422/9912422 [00:00<00:00, 87854446.73it/s]\n"
          ]
        },
        {
          "name": "stdout",
          "output_type": "stream",
          "text": [
            "Extracting ./data/MNIST/raw/train-images-idx3-ubyte.gz to ./data/MNIST/raw\n",
            "\n",
            "Downloading http://yann.lecun.com/exdb/mnist/train-labels-idx1-ubyte.gz\n",
            "Downloading http://yann.lecun.com/exdb/mnist/train-labels-idx1-ubyte.gz to ./data/MNIST/raw/train-labels-idx1-ubyte.gz\n"
          ]
        },
        {
          "name": "stderr",
          "output_type": "stream",
          "text": [
            "100%|██████████| 28881/28881 [00:00<00:00, 73415572.01it/s]\n"
          ]
        },
        {
          "name": "stdout",
          "output_type": "stream",
          "text": [
            "Extracting ./data/MNIST/raw/train-labels-idx1-ubyte.gz to ./data/MNIST/raw\n",
            "\n",
            "Downloading http://yann.lecun.com/exdb/mnist/t10k-images-idx3-ubyte.gz\n",
            "Downloading http://yann.lecun.com/exdb/mnist/t10k-images-idx3-ubyte.gz to ./data/MNIST/raw/t10k-images-idx3-ubyte.gz\n"
          ]
        },
        {
          "name": "stderr",
          "output_type": "stream",
          "text": [
            "100%|██████████| 1648877/1648877 [00:00<00:00, 20682730.42it/s]\n"
          ]
        },
        {
          "name": "stdout",
          "output_type": "stream",
          "text": [
            "Extracting ./data/MNIST/raw/t10k-images-idx3-ubyte.gz to ./data/MNIST/raw\n",
            "\n",
            "Downloading http://yann.lecun.com/exdb/mnist/t10k-labels-idx1-ubyte.gz\n",
            "Downloading http://yann.lecun.com/exdb/mnist/t10k-labels-idx1-ubyte.gz to ./data/MNIST/raw/t10k-labels-idx1-ubyte.gz\n"
          ]
        },
        {
          "name": "stderr",
          "output_type": "stream",
          "text": [
            "100%|██████████| 4542/4542 [00:00<00:00, 15955216.72it/s]\n"
          ]
        },
        {
          "name": "stdout",
          "output_type": "stream",
          "text": [
            "Extracting ./data/MNIST/raw/t10k-labels-idx1-ubyte.gz to ./data/MNIST/raw\n",
            "\n"
          ]
        }
      ],
      "source": [
        "#REFRENCES\n",
        "# https://www.youtube.com/watch?v=ijaT8HuCtIY (MNIST classification using PyTorch)\n",
        "# https://www.youtube.com/watch?v=gBw0u_5u0qU\n",
        "# getting the random test image from the MNIST dataset has some sort of refrencing from AI\n",
        "\n",
        "import torch\n",
        "import torch.nn as nn\n",
        "import torch.optim as optim\n",
        "import torchvision.transforms as transforms\n",
        "from torchvision.datasets import MNIST\n",
        "from torch.utils.data import DataLoader\n",
        "import numpy as np\n",
        "\n",
        "# loading the MNIST dataset\n",
        "transform = transforms.Compose([transforms.ToTensor(), transforms.Normalize((0.5,), (0.5,))])\n",
        "mnist_train = MNIST(root='./data', train=True, transform=transform, download=True)\n",
        "mnist_test = MNIST(root='./data', train=False, transform=transform)\n",
        "\n",
        "train_loader = DataLoader(mnist_train, batch_size=64, shuffle=True)\n",
        "test_loader = DataLoader(mnist_test, batch_size=64, shuffle=False)\n",
        "\n",
        "# given model with pre-defined weights\n",
        "class FeatureExtractor(nn.Module):\n",
        "    def __init__(self):\n",
        "        super(FeatureExtractor, self).__init__()\n",
        "        self.features = nn.Sequential(\n",
        "            nn.Conv2d(1, 32, kernel_size=3, stride=1, padding=1),\n",
        "            nn.BatchNorm2d(32),\n",
        "            nn.ReLU(inplace=True),\n",
        "            nn.MaxPool2d(kernel_size=2, stride=2),\n",
        "            nn.Conv2d(32, 64, kernel_size=3, stride=1, padding=1),\n",
        "            nn.BatchNorm2d(64),\n",
        "            nn.ReLU(inplace=True),\n",
        "            nn.MaxPool2d(kernel_size=2, stride=2)\n",
        "        )\n",
        "\n",
        "    def forward(self, x):\n",
        "        x = self.features(x)\n",
        "        return x\n",
        "\n",
        "# loading the pre-trained feature extractor\n",
        "feature_extractor = FeatureExtractor()\n",
        "feature_extractor.load_state_dict(torch.load('feature_extractor.pth', map_location=torch.device('cpu')))\n",
        "feature_extractor.eval()\n",
        "\n",
        "# multi-task model defined\n",
        "class MultiTaskModel(nn.Module):\n",
        "    def __init__(self, feature_extractor):\n",
        "        super(MultiTaskModel, self).__init__()\n",
        "        self.feature_extractor = feature_extractor\n",
        "        self.digit_classifier = nn.Sequential(\n",
        "            nn.Linear(64 * 7 * 7, 128),  # Adjust input size based on your FeatureExtractor's output size\n",
        "            nn.ReLU(),\n",
        "            nn.Linear(128, 10)\n",
        "        )\n",
        "        self.binary_classifier = nn.Sequential(\n",
        "            nn.Linear(64 * 7 * 7, 128),  # Adjust input size based on your FeatureExtractor's output size\n",
        "            nn.ReLU(),\n",
        "            nn.Linear(128, 1)\n",
        "        )\n",
        "\n",
        "    def forward(self, x):\n",
        "        features = self.feature_extractor(x)\n",
        "        features = features.view(features.size(0), -1)\n",
        "        digit_logits = self.digit_classifier(features)\n",
        "        binary_logits = self.binary_classifier(features)\n",
        "        return digit_logits, binary_logits\n",
        "\n",
        "# loss function applied\n",
        "digit_loss_fn = nn.CrossEntropyLoss()\n",
        "binary_loss_fn = nn.BCEWithLogitsLoss()\n",
        "\n",
        "# initialize the multi-task model\n",
        "model = MultiTaskModel(feature_extractor)\n",
        "\n",
        "# adam optimizer used for training neural netwok with the defined learning rate\n",
        "optimizer = optim.Adam(model.parameters(), lr=0.001)\n",
        "\n",
        "# train the images with the digit and binary labels\n",
        "num_epochs = 10\n",
        "for epoch in range(num_epochs):\n",
        "    model.train()\n",
        "    for images, labels in train_loader:\n",
        "        optimizer.zero_grad()\n",
        "        digit_logits, binary_logits = model(images)\n",
        "        digit_loss = digit_loss_fn(digit_logits, labels)\n",
        "        binary_labels = (labels > 5).float()  # 1 if digit > 5, else 0\n",
        "        binary_loss = binary_loss_fn(binary_logits.view(-1), binary_labels)\n",
        "        total_loss = digit_loss + binary_loss\n",
        "        total_loss.backward()\n",
        "        optimizer.step()\n",
        "\n",
        "\n",
        "\n",
        "\n",
        "\n"
      ]
    },
    {
      "cell_type": "code",
      "execution_count": 2,
      "metadata": {
        "colab": {
          "base_uri": "https://localhost:8080/"
        },
        "id": "ouHXn8Vb7bHK",
        "outputId": "bc5eb262-cc22-4d9b-c79d-3398c9e2e949"
      },
      "outputs": [
        {
          "name": "stdout",
          "output_type": "stream",
          "text": [
            "Digit Classification Accuracy: 99.10%\n",
            "Binary Classification Accuracy: 99.42%\n"
          ]
        }
      ],
      "source": [
        "# evaluation of the model\n",
        "model.eval()\n",
        "digit_correct = 0\n",
        "binary_correct = 0\n",
        "total = 0\n",
        "\n",
        "with torch.no_grad():\n",
        "    for images, labels in test_loader:\n",
        "        digit_logits, binary_logits = model(images)\n",
        "        _, digit_predicted = torch.max(digit_logits.data, 1)\n",
        "        binary_predicted = (binary_logits > 0).float()\n",
        "        total += labels.size(0)\n",
        "        digit_correct += (digit_predicted == labels).sum().item()\n",
        "        binary_correct += (binary_predicted.flatten() == (labels > 5).float()).sum().item()\n",
        "digit_accuracy = digit_correct / total\n",
        "binary_accuracy = binary_correct / total\n",
        "\n",
        "print(f\"Digit Classification Accuracy: {digit_accuracy * 100:.2f}%\")\n",
        "print(f\"Binary Classification Accuracy: {binary_accuracy * 100:.2f}%\")"
      ]
    },
    {
      "cell_type": "code",
      "execution_count": 10,
      "metadata": {
        "colab": {
          "base_uri": "https://localhost:8080/",
          "height": 351
        },
        "id": "pIPDQOoQDbc8",
        "outputId": "b9d71863-14c5-44d1-a192-a6fccf4aa041"
      },
      "outputs": [
        {
          "data": {
            "image/png": "[encoded data removed]",
            "text/plain": [
              "<Figure size 1500x500 with 3 Axes>"
            ]
          },
          "metadata": {},
          "output_type": "display_data"
        }
      ],
      "source": [
        "import random\n",
        "import matplotlib.pyplot as plt\n",
        "\n",
        "sample_data = []\n",
        "sample_label = []\n",
        "predicted_label_binary = []\n",
        "predicted_label_digit = []\n",
        "\n",
        "for images, labels in test_loader:\n",
        "  sample_data.append(images[0])\n",
        "  sample_label.append(labels[0])\n",
        "\n",
        "# taking the three random indices\n",
        "random_indices = random.sample(range(len(sample_data)), 3)\n",
        "\n",
        "\n",
        "random_sample = [sample_data[i] for i in random_indices]\n",
        "random_labels = [sample_label[i] for i in random_indices]\n",
        "\n",
        "for image in random_sample:\n",
        "  # makes the prediction\n",
        "  with torch.no_grad():\n",
        "    digit_logits, binary_logits = model(torch.unsqueeze(image, 0))\n",
        "\n",
        "  # converting the logits into class labels\n",
        "  _, digit_predicted = torch.max(digit_logits.data, 1)\n",
        "  binary_predicted = (binary_logits > 0).float()\n",
        "  predicted_label_binary += binary_predicted\n",
        "  predicted_label_digit += digit_predicted\n",
        "\n",
        "sample = random_sample[1].numpy()\n",
        "\n",
        "# Create a figure with subplots\n",
        "fig, axs = plt.subplots(1, 3, figsize=(15, 5))\n",
        "\n",
        "# Iterate through the images and labels\n",
        "for i, image  in enumerate(random_sample):\n",
        "    # Load the image\n",
        "    image = image.numpy()\n",
        "\n",
        "    # Display the image on the current subplot\n",
        "    axs[i].imshow(image.squeeze())\n",
        "    axs[i].axis('off')  # Turn off axis labels for the image\n",
        "\n",
        "    # Display true and predicted labels as the title of the current subplot\n",
        "    axs[i].set_title(f\"Predicted_digit: {predicted_label_digit[i]} \\n{'Greater than 5' if predicted_label_binary[i][0] == 1 else 'Less than or equal to 5'}\")\n",
        "\n",
        "# Show the plot\n",
        "plt.show()\n",
        "\n",
        "\n",
        "\n",
        "\n",
        "\n",
        "\n",
        "\n"
      ]
    }
  ],
  "metadata": {
    "colab": {
      "provenance": []
    },
    "kernelspec": {
      "display_name": "Python 3",
      "name": "python3"
    },
    "language_info": {
      "name": "python"
    }
  },
  "nbformat": 4,
  "nbformat_minor": 0
}
